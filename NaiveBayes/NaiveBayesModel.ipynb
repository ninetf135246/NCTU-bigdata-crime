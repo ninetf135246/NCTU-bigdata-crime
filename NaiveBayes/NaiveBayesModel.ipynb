{
 "cells": [
  {
   "cell_type": "code",
   "execution_count": 1,
   "metadata": {
    "collapsed": true
   },
   "outputs": [],
   "source": [
    "import numpy as np\n",
    "import pandas as pd\n",
    "from collections import namedtuple"
   ]
  },
  {
   "cell_type": "markdown",
   "metadata": {},
   "source": [
    "### CreateTable(col_n, series_in)\n",
    "\n",
    "    col_n: column name(selected feature)\n",
    "    series_in: pandas series\n",
    "    \n",
    "    f_table: naive bayes table for the selected feature\n",
    "\n",
    "#### Example:\n",
    "    small_table = CreateTable(\"Description\", theft[\"Description\"])"
   ]
  },
  {
   "cell_type": "code",
   "execution_count": 2,
   "metadata": {
    "collapsed": true
   },
   "outputs": [],
   "source": [
    "def CreateTable(col_n, series_in):\n",
    "    TupleStructure = namedtuple(col_n,[\"uniqType\",\"true_p\",\"false_p\"])\n",
    "    u_type = series_in.unique()\n",
    "\n",
    "    f_table = TupleStructure(\n",
    "              uniqType=np.asarray(u_type),\n",
    "              true_p=np.zeros(len(u_type)),\n",
    "              false_p=np.zeros(len(u_type))\n",
    "              )\n",
    "    return f_table"
   ]
  },
  {
   "cell_type": "markdown",
   "metadata": {},
   "source": [
    "### FillTable(i_type, series_in, series_t, truefalse=True)\n",
    "\n",
    "    i_type: a category in a feature\n",
    "    series_in: pandas series\n",
    "    series_t: target pandas series(in our case it's \"Arrest\")\n",
    "    truefalse: True or False.\n",
    "    \n",
    "    molecular/denominator: an array of conditional probability for each category in a feature\n",
    "    \n",
    "#### Example:\n",
    "    col_n = \"Description\"\n",
    "    tr_arr = list(map(lambda x: fillTable(x, theft[col_n], theft[target], True), theft[col_n].unique()))\n",
    "    fa_arr = list(map(lambda x: fillTable(x, theft[col_n], theft[target], False), theft[col_n].unique()))\n",
    "    small_table=small_table._replace(true_p=tr_arr)\n",
    "    small_table=small_table._replace(false_p=fa_arr)"
   ]
  },
  {
   "cell_type": "code",
   "execution_count": 3,
   "metadata": {
    "collapsed": true
   },
   "outputs": [],
   "source": [
    "def fillTable(i_type, series_in, series_t, truefalse=True):\n",
    "    index_in = np.where(series_in == i_type)\n",
    "    index_t = np.where(series_t == truefalse)\n",
    "    molecular = len(np.intersect1d(index_in[0], index_t[0]))\n",
    "    denominator = len(index_t[0])\n",
    "    return molecular/denominator"
   ]
  },
  {
   "cell_type": "markdown",
   "metadata": {},
   "source": [
    "### CalculateNaiveBayes(table, features, queries)\n",
    "    \n",
    "    table: a list of small tabel\n",
    "    features: an array of features (the order of the features should be the same as the table) \n",
    "    queries: a row of dataframe\n",
    "\n",
    "#### Example\n",
    "    features = ['LocationDescription', 'Description', 'Domestic', 'Hour', 'Ward']\n",
    "    answer = list(map(lambda x: CalculateNaiveBayes(big_table, features, theft_test.loc[x]), theft_test.index))"
   ]
  },
  {
   "cell_type": "code",
   "execution_count": 4,
   "metadata": {
    "collapsed": true
   },
   "outputs": [],
   "source": [
    "def CalculateNaiveBayes(table, features, queries):\n",
    "    i = 0\n",
    "    tp = 1\n",
    "    fp = 1\n",
    "    for f in features:\n",
    "        idx = int(np.where(table[i].uniqType == queries[f])[0])\n",
    "        #print(type(idx))\n",
    "        tp = tp * list(table[i].true_p)[idx]\n",
    "        fp = fp * list(table[i].false_p)[idx]\n",
    "        i=i+1\n",
    "        \n",
    "    return tp > fp"
   ]
  },
  {
   "cell_type": "markdown",
   "metadata": {},
   "source": [
    "# Complete Example"
   ]
  },
  {
   "cell_type": "code",
   "execution_count": 5,
   "metadata": {},
   "outputs": [
    {
     "data": {
      "text/html": [
       "<div>\n",
       "<style>\n",
       "    .dataframe thead tr:only-child th {\n",
       "        text-align: right;\n",
       "    }\n",
       "\n",
       "    .dataframe thead th {\n",
       "        text-align: left;\n",
       "    }\n",
       "\n",
       "    .dataframe tbody tr th {\n",
       "        vertical-align: top;\n",
       "    }\n",
       "</style>\n",
       "<table border=\"1\" class=\"dataframe\">\n",
       "  <thead>\n",
       "    <tr style=\"text-align: right;\">\n",
       "      <th></th>\n",
       "      <th>Date</th>\n",
       "      <th>Primary Type</th>\n",
       "      <th>Description</th>\n",
       "      <th>Location Description</th>\n",
       "      <th>Arrest</th>\n",
       "      <th>Domestic</th>\n",
       "      <th>Ward</th>\n",
       "      <th>Year</th>\n",
       "      <th>Hour</th>\n",
       "    </tr>\n",
       "    <tr>\n",
       "      <th>ID</th>\n",
       "      <th></th>\n",
       "      <th></th>\n",
       "      <th></th>\n",
       "      <th></th>\n",
       "      <th></th>\n",
       "      <th></th>\n",
       "      <th></th>\n",
       "      <th></th>\n",
       "      <th></th>\n",
       "    </tr>\n",
       "  </thead>\n",
       "  <tbody>\n",
       "    <tr>\n",
       "      <th>10504504</th>\n",
       "      <td>04/30/2016 12:00:00 AM</td>\n",
       "      <td>BATTERY</td>\n",
       "      <td>DOMESTIC BATTERY SIMPLE</td>\n",
       "      <td>RESIDENCE</td>\n",
       "      <td>False</td>\n",
       "      <td>True</td>\n",
       "      <td>6.0</td>\n",
       "      <td>2016</td>\n",
       "      <td>0</td>\n",
       "    </tr>\n",
       "    <tr>\n",
       "      <th>10504512</th>\n",
       "      <td>04/30/2016 12:00:00 AM</td>\n",
       "      <td>NARCOTICS</td>\n",
       "      <td>POSS: CANNABIS 30GMS OR LESS</td>\n",
       "      <td>SIDEWALK</td>\n",
       "      <td>True</td>\n",
       "      <td>False</td>\n",
       "      <td>29.0</td>\n",
       "      <td>2016</td>\n",
       "      <td>0</td>\n",
       "    </tr>\n",
       "    <tr>\n",
       "      <th>10504523</th>\n",
       "      <td>04/30/2016 01:05:00 AM</td>\n",
       "      <td>OTHER OFFENSE</td>\n",
       "      <td>HARASSMENT BY ELECTRONIC MEANS</td>\n",
       "      <td>RESIDENCE</td>\n",
       "      <td>False</td>\n",
       "      <td>True</td>\n",
       "      <td>6.0</td>\n",
       "      <td>2016</td>\n",
       "      <td>1</td>\n",
       "    </tr>\n",
       "    <tr>\n",
       "      <th>10504536</th>\n",
       "      <td>04/30/2016 12:31:00 AM</td>\n",
       "      <td>ROBBERY</td>\n",
       "      <td>ARMED: HANDGUN</td>\n",
       "      <td>RESTAURANT</td>\n",
       "      <td>False</td>\n",
       "      <td>False</td>\n",
       "      <td>8.0</td>\n",
       "      <td>2016</td>\n",
       "      <td>0</td>\n",
       "    </tr>\n",
       "    <tr>\n",
       "      <th>10504538</th>\n",
       "      <td>04/30/2016 12:14:00 AM</td>\n",
       "      <td>BATTERY</td>\n",
       "      <td>DOMESTIC BATTERY SIMPLE</td>\n",
       "      <td>RESIDENCE</td>\n",
       "      <td>True</td>\n",
       "      <td>True</td>\n",
       "      <td>35.0</td>\n",
       "      <td>2016</td>\n",
       "      <td>0</td>\n",
       "    </tr>\n",
       "  </tbody>\n",
       "</table>\n",
       "</div>"
      ],
      "text/plain": [
       "                            Date   Primary Type  \\\n",
       "ID                                                \n",
       "10504504  04/30/2016 12:00:00 AM        BATTERY   \n",
       "10504512  04/30/2016 12:00:00 AM      NARCOTICS   \n",
       "10504523  04/30/2016 01:05:00 AM  OTHER OFFENSE   \n",
       "10504536  04/30/2016 12:31:00 AM        ROBBERY   \n",
       "10504538  04/30/2016 12:14:00 AM        BATTERY   \n",
       "\n",
       "                             Description Location Description  Arrest  \\\n",
       "ID                                                                      \n",
       "10504504         DOMESTIC BATTERY SIMPLE            RESIDENCE   False   \n",
       "10504512    POSS: CANNABIS 30GMS OR LESS             SIDEWALK    True   \n",
       "10504523  HARASSMENT BY ELECTRONIC MEANS            RESIDENCE   False   \n",
       "10504536                  ARMED: HANDGUN           RESTAURANT   False   \n",
       "10504538         DOMESTIC BATTERY SIMPLE            RESIDENCE    True   \n",
       "\n",
       "          Domestic  Ward  Year  Hour  \n",
       "ID                                    \n",
       "10504504      True   6.0  2016     0  \n",
       "10504512     False  29.0  2016     0  \n",
       "10504523      True   6.0  2016     1  \n",
       "10504536     False   8.0  2016     0  \n",
       "10504538      True  35.0  2016     0  "
      ]
     },
     "execution_count": 5,
     "metadata": {},
     "output_type": "execute_result"
    }
   ],
   "source": [
    "data = pd.DataFrame.from_csv(\"Modified_Crimes.csv\")\n",
    "data.head()"
   ]
  },
  {
   "cell_type": "code",
   "execution_count": 6,
   "metadata": {},
   "outputs": [
    {
     "data": {
      "text/html": [
       "<div>\n",
       "<style>\n",
       "    .dataframe thead tr:only-child th {\n",
       "        text-align: right;\n",
       "    }\n",
       "\n",
       "    .dataframe thead th {\n",
       "        text-align: left;\n",
       "    }\n",
       "\n",
       "    .dataframe tbody tr th {\n",
       "        vertical-align: top;\n",
       "    }\n",
       "</style>\n",
       "<table border=\"1\" class=\"dataframe\">\n",
       "  <thead>\n",
       "    <tr style=\"text-align: right;\">\n",
       "      <th></th>\n",
       "      <th>Date</th>\n",
       "      <th>Primary Type</th>\n",
       "      <th>Description</th>\n",
       "      <th>Location Description</th>\n",
       "      <th>Arrest</th>\n",
       "      <th>Domestic</th>\n",
       "      <th>Ward</th>\n",
       "      <th>Year</th>\n",
       "      <th>Hour</th>\n",
       "    </tr>\n",
       "    <tr>\n",
       "      <th>ID</th>\n",
       "      <th></th>\n",
       "      <th></th>\n",
       "      <th></th>\n",
       "      <th></th>\n",
       "      <th></th>\n",
       "      <th></th>\n",
       "      <th></th>\n",
       "      <th></th>\n",
       "      <th></th>\n",
       "    </tr>\n",
       "  </thead>\n",
       "  <tbody>\n",
       "    <tr>\n",
       "      <th>10504543</th>\n",
       "      <td>04/30/2016 12:30:00 AM</td>\n",
       "      <td>THEFT</td>\n",
       "      <td>OVER $500</td>\n",
       "      <td>CTA BUS</td>\n",
       "      <td>False</td>\n",
       "      <td>False</td>\n",
       "      <td>4.0</td>\n",
       "      <td>2016</td>\n",
       "      <td>0</td>\n",
       "    </tr>\n",
       "    <tr>\n",
       "      <th>10505337</th>\n",
       "      <td>04/30/2016 10:45:00 PM</td>\n",
       "      <td>THEFT</td>\n",
       "      <td>$500 AND UNDER</td>\n",
       "      <td>RESIDENCE PORCH/HALLWAY</td>\n",
       "      <td>False</td>\n",
       "      <td>True</td>\n",
       "      <td>7.0</td>\n",
       "      <td>2016</td>\n",
       "      <td>22</td>\n",
       "    </tr>\n",
       "    <tr>\n",
       "      <th>10505351</th>\n",
       "      <td>04/30/2016 11:30:00 PM</td>\n",
       "      <td>THEFT</td>\n",
       "      <td>$500 AND UNDER</td>\n",
       "      <td>STREET</td>\n",
       "      <td>False</td>\n",
       "      <td>False</td>\n",
       "      <td>27.0</td>\n",
       "      <td>2016</td>\n",
       "      <td>23</td>\n",
       "    </tr>\n",
       "    <tr>\n",
       "      <th>10477562</th>\n",
       "      <td>03/31/2016 11:40:00 AM</td>\n",
       "      <td>THEFT</td>\n",
       "      <td>$500 AND UNDER</td>\n",
       "      <td>PARKING LOT/GARAGE(NON.RESID.)</td>\n",
       "      <td>True</td>\n",
       "      <td>False</td>\n",
       "      <td>32.0</td>\n",
       "      <td>2016</td>\n",
       "      <td>11</td>\n",
       "    </tr>\n",
       "    <tr>\n",
       "      <th>10504520</th>\n",
       "      <td>04/29/2016 09:00:00 PM</td>\n",
       "      <td>THEFT</td>\n",
       "      <td>POCKET-PICKING</td>\n",
       "      <td>RESTAURANT</td>\n",
       "      <td>False</td>\n",
       "      <td>False</td>\n",
       "      <td>2.0</td>\n",
       "      <td>2016</td>\n",
       "      <td>21</td>\n",
       "    </tr>\n",
       "  </tbody>\n",
       "</table>\n",
       "</div>"
      ],
      "text/plain": [
       "                            Date Primary Type     Description  \\\n",
       "ID                                                              \n",
       "10504543  04/30/2016 12:30:00 AM        THEFT       OVER $500   \n",
       "10505337  04/30/2016 10:45:00 PM        THEFT  $500 AND UNDER   \n",
       "10505351  04/30/2016 11:30:00 PM        THEFT  $500 AND UNDER   \n",
       "10477562  03/31/2016 11:40:00 AM        THEFT  $500 AND UNDER   \n",
       "10504520  04/29/2016 09:00:00 PM        THEFT  POCKET-PICKING   \n",
       "\n",
       "                    Location Description  Arrest  Domestic  Ward  Year  Hour  \n",
       "ID                                                                            \n",
       "10504543                         CTA BUS   False     False   4.0  2016     0  \n",
       "10505337         RESIDENCE PORCH/HALLWAY   False      True   7.0  2016    22  \n",
       "10505351                          STREET   False     False  27.0  2016    23  \n",
       "10477562  PARKING LOT/GARAGE(NON.RESID.)    True     False  32.0  2016    11  \n",
       "10504520                      RESTAURANT   False     False   2.0  2016    21  "
      ]
     },
     "execution_count": 6,
     "metadata": {},
     "output_type": "execute_result"
    }
   ],
   "source": [
    "theft = data[data['Primary Type']==\"THEFT\"]\n",
    "theft.head()"
   ]
  },
  {
   "cell_type": "code",
   "execution_count": 7,
   "metadata": {
    "collapsed": true
   },
   "outputs": [],
   "source": [
    "#remove blank in column name\n",
    "theft = theft.rename(columns={\"Location Description\": \"LocationDescription\"})\n",
    "theft_test = theft[theft['Year']==2017]\n",
    "theft = theft[theft['Year'] < 2017]"
   ]
  },
  {
   "cell_type": "code",
   "execution_count": 8,
   "metadata": {
    "collapsed": true
   },
   "outputs": [],
   "source": [
    "big_table = []\n",
    "target = \"Arrest\"\n",
    "features = ['LocationDescription', 'Description', 'Domestic', 'Hour', 'Ward']\n",
    "# Use np.where(condition) to look for indice\n",
    "for col_n in features:\n",
    "    small_table = CreateTable(col_n, theft[col_n])\n",
    "    tr_arr = list(map(lambda x: fillTable(x, theft[col_n], theft[target], True), theft[col_n].unique()))\n",
    "    fa_arr = list(map(lambda x: fillTable(x, theft[col_n], theft[target], False), theft[col_n].unique()))\n",
    "    small_table=small_table._replace(true_p=tr_arr)\n",
    "    small_table=small_table._replace(false_p=fa_arr)\n",
    "    #small_table.true_p = \n",
    "    #small_table.false_p = \n",
    "    big_table.append(small_table)"
   ]
  },
  {
   "cell_type": "code",
   "execution_count": 9,
   "metadata": {
    "collapsed": true
   },
   "outputs": [],
   "source": [
    "answer = list(map(lambda x: CalculateNaiveBayes(big_table, features, theft_test.loc[x]), theft_test.index))"
   ]
  },
  {
   "cell_type": "code",
   "execution_count": 10,
   "metadata": {},
   "outputs": [
    {
     "data": {
      "text/plain": [
       "0.8752560998323711"
      ]
     },
     "execution_count": 10,
     "metadata": {},
     "output_type": "execute_result"
    }
   ],
   "source": [
    "len(np.where(theft_test['Arrest']==answer)[0])/len(theft_test)"
   ]
  },
  {
   "cell_type": "code",
   "execution_count": null,
   "metadata": {
    "collapsed": true
   },
   "outputs": [],
   "source": []
  }
 ],
 "metadata": {
  "kernelspec": {
   "display_name": "Python 3",
   "language": "python",
   "name": "python3"
  },
  "language_info": {
   "codemirror_mode": {
    "name": "ipython",
    "version": 3
   },
   "file_extension": ".py",
   "mimetype": "text/x-python",
   "name": "python",
   "nbconvert_exporter": "python",
   "pygments_lexer": "ipython3",
   "version": "3.5.2"
  }
 },
 "nbformat": 4,
 "nbformat_minor": 2
}

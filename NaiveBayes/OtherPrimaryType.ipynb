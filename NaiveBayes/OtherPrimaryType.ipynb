{
 "cells": [
  {
   "cell_type": "code",
   "execution_count": 1,
   "metadata": {
    "collapsed": true
   },
   "outputs": [],
   "source": [
    "import NaiveBayes as nb\n",
    "import numpy as np\n",
    "import pandas as pd\n",
    "from collections import namedtuple\n",
    "from sklearn.metrics import confusion_matrix"
   ]
  },
  {
   "cell_type": "markdown",
   "metadata": {},
   "source": [
    "# Battery"
   ]
  },
  {
   "cell_type": "code",
   "execution_count": 2,
   "metadata": {},
   "outputs": [
    {
     "data": {
      "text/html": [
       "<div>\n",
       "<style>\n",
       "    .dataframe thead tr:only-child th {\n",
       "        text-align: right;\n",
       "    }\n",
       "\n",
       "    .dataframe thead th {\n",
       "        text-align: left;\n",
       "    }\n",
       "\n",
       "    .dataframe tbody tr th {\n",
       "        vertical-align: top;\n",
       "    }\n",
       "</style>\n",
       "<table border=\"1\" class=\"dataframe\">\n",
       "  <thead>\n",
       "    <tr style=\"text-align: right;\">\n",
       "      <th></th>\n",
       "      <th>Date</th>\n",
       "      <th>Primary Type</th>\n",
       "      <th>Description</th>\n",
       "      <th>Location Description</th>\n",
       "      <th>Arrest</th>\n",
       "      <th>Domestic</th>\n",
       "      <th>Ward</th>\n",
       "      <th>Year</th>\n",
       "      <th>Hour</th>\n",
       "    </tr>\n",
       "    <tr>\n",
       "      <th>ID</th>\n",
       "      <th></th>\n",
       "      <th></th>\n",
       "      <th></th>\n",
       "      <th></th>\n",
       "      <th></th>\n",
       "      <th></th>\n",
       "      <th></th>\n",
       "      <th></th>\n",
       "      <th></th>\n",
       "    </tr>\n",
       "  </thead>\n",
       "  <tbody>\n",
       "    <tr>\n",
       "      <th>10504504</th>\n",
       "      <td>04/30/2016 12:00:00 AM</td>\n",
       "      <td>BATTERY</td>\n",
       "      <td>DOMESTIC BATTERY SIMPLE</td>\n",
       "      <td>RESIDENCE</td>\n",
       "      <td>False</td>\n",
       "      <td>True</td>\n",
       "      <td>6.0</td>\n",
       "      <td>2016</td>\n",
       "      <td>0</td>\n",
       "    </tr>\n",
       "    <tr>\n",
       "      <th>10504538</th>\n",
       "      <td>04/30/2016 12:14:00 AM</td>\n",
       "      <td>BATTERY</td>\n",
       "      <td>DOMESTIC BATTERY SIMPLE</td>\n",
       "      <td>RESIDENCE</td>\n",
       "      <td>True</td>\n",
       "      <td>True</td>\n",
       "      <td>35.0</td>\n",
       "      <td>2016</td>\n",
       "      <td>0</td>\n",
       "    </tr>\n",
       "    <tr>\n",
       "      <th>10504546</th>\n",
       "      <td>04/30/2016 01:15:00 AM</td>\n",
       "      <td>BATTERY</td>\n",
       "      <td>DOMESTIC BATTERY SIMPLE</td>\n",
       "      <td>APARTMENT</td>\n",
       "      <td>False</td>\n",
       "      <td>False</td>\n",
       "      <td>7.0</td>\n",
       "      <td>2016</td>\n",
       "      <td>1</td>\n",
       "    </tr>\n",
       "    <tr>\n",
       "      <th>10504547</th>\n",
       "      <td>04/30/2016 12:45:00 AM</td>\n",
       "      <td>BATTERY</td>\n",
       "      <td>DOMESTIC BATTERY SIMPLE</td>\n",
       "      <td>APARTMENT</td>\n",
       "      <td>True</td>\n",
       "      <td>True</td>\n",
       "      <td>28.0</td>\n",
       "      <td>2016</td>\n",
       "      <td>0</td>\n",
       "    </tr>\n",
       "    <tr>\n",
       "      <th>10504553</th>\n",
       "      <td>04/30/2016 12:27:00 AM</td>\n",
       "      <td>BATTERY</td>\n",
       "      <td>DOMESTIC BATTERY SIMPLE</td>\n",
       "      <td>APARTMENT</td>\n",
       "      <td>False</td>\n",
       "      <td>True</td>\n",
       "      <td>35.0</td>\n",
       "      <td>2016</td>\n",
       "      <td>0</td>\n",
       "    </tr>\n",
       "  </tbody>\n",
       "</table>\n",
       "</div>"
      ],
      "text/plain": [
       "                            Date Primary Type              Description  \\\n",
       "ID                                                                       \n",
       "10504504  04/30/2016 12:00:00 AM      BATTERY  DOMESTIC BATTERY SIMPLE   \n",
       "10504538  04/30/2016 12:14:00 AM      BATTERY  DOMESTIC BATTERY SIMPLE   \n",
       "10504546  04/30/2016 01:15:00 AM      BATTERY  DOMESTIC BATTERY SIMPLE   \n",
       "10504547  04/30/2016 12:45:00 AM      BATTERY  DOMESTIC BATTERY SIMPLE   \n",
       "10504553  04/30/2016 12:27:00 AM      BATTERY  DOMESTIC BATTERY SIMPLE   \n",
       "\n",
       "         Location Description  Arrest  Domestic  Ward  Year  Hour  \n",
       "ID                                                                 \n",
       "10504504            RESIDENCE   False      True   6.0  2016     0  \n",
       "10504538            RESIDENCE    True      True  35.0  2016     0  \n",
       "10504546            APARTMENT   False     False   7.0  2016     1  \n",
       "10504547            APARTMENT    True      True  28.0  2016     0  \n",
       "10504553            APARTMENT   False      True  35.0  2016     0  "
      ]
     },
     "execution_count": 2,
     "metadata": {},
     "output_type": "execute_result"
    }
   ],
   "source": [
    "data = pd.DataFrame.from_csv(\"Modified_Crimes.csv\")\n",
    "train = data[data['Primary Type']==\"BATTERY\"]\n",
    "train.head()"
   ]
  },
  {
   "cell_type": "code",
   "execution_count": 3,
   "metadata": {
    "collapsed": true
   },
   "outputs": [],
   "source": [
    "train = train.rename(columns={\"Location Description\": \"LocationDescription\"})\n",
    "test = train[train['Year']==2017]\n",
    "train= train[train['Year'] < 2017]"
   ]
  },
  {
   "cell_type": "code",
   "execution_count": 5,
   "metadata": {},
   "outputs": [],
   "source": [
    "dict_table = {}\n",
    "target = \"Arrest\"\n",
    "features = ['LocationDescription', 'Description', 'Domestic', 'Hour', 'Ward']\n",
    "# Use np.where(condition) to look for indice\n",
    "for col_n in features:\n",
    "    small_table = nb.CreateTable(col_n, train[col_n])\n",
    "    tr_arr = list(map(lambda x: nb.fillTable(x, train[col_n], train[target], True), train[col_n].unique()))\n",
    "    fa_arr = list(map(lambda x: nb.fillTable(x, train[col_n], train[target], False), train[col_n].unique()))\n",
    "    small_table=small_table._replace(true_p=tr_arr)\n",
    "    small_table=small_table._replace(false_p=fa_arr)\n",
    "    \n",
    "    dict_table[col_n] = small_table"
   ]
  },
  {
   "cell_type": "code",
   "execution_count": 6,
   "metadata": {},
   "outputs": [
    {
     "name": "stdout",
     "output_type": "stream",
     "text": [
      "Accuracy:  0.6207479161973417\n"
     ]
    },
    {
     "data": {
      "text/plain": [
       "array([[1899, 1715],\n",
       "       [5019, 9123]])"
      ]
     },
     "execution_count": 6,
     "metadata": {},
     "output_type": "execute_result"
    }
   ],
   "source": [
    "answer = list(map(lambda x: nb.CalculateNaiveBayes(dict_table, features, test.loc[x]), test.index))\n",
    "print(\"Accuracy: \",len(np.where(test['Arrest']==answer)[0])/len(test))\n",
    "confusion_matrix(test['Arrest'], answer,labels=[True, False])"
   ]
  },
  {
   "cell_type": "markdown",
   "metadata": {},
   "source": [
    "# CRIMINAL DAMAGE"
   ]
  },
  {
   "cell_type": "code",
   "execution_count": 7,
   "metadata": {},
   "outputs": [
    {
     "data": {
      "text/html": [
       "<div>\n",
       "<style>\n",
       "    .dataframe thead tr:only-child th {\n",
       "        text-align: right;\n",
       "    }\n",
       "\n",
       "    .dataframe thead th {\n",
       "        text-align: left;\n",
       "    }\n",
       "\n",
       "    .dataframe tbody tr th {\n",
       "        vertical-align: top;\n",
       "    }\n",
       "</style>\n",
       "<table border=\"1\" class=\"dataframe\">\n",
       "  <thead>\n",
       "    <tr style=\"text-align: right;\">\n",
       "      <th></th>\n",
       "      <th>Date</th>\n",
       "      <th>Primary Type</th>\n",
       "      <th>Description</th>\n",
       "      <th>Location Description</th>\n",
       "      <th>Arrest</th>\n",
       "      <th>Domestic</th>\n",
       "      <th>Ward</th>\n",
       "      <th>Year</th>\n",
       "      <th>Hour</th>\n",
       "    </tr>\n",
       "    <tr>\n",
       "      <th>ID</th>\n",
       "      <th></th>\n",
       "      <th></th>\n",
       "      <th></th>\n",
       "      <th></th>\n",
       "      <th></th>\n",
       "      <th></th>\n",
       "      <th></th>\n",
       "      <th></th>\n",
       "      <th></th>\n",
       "    </tr>\n",
       "  </thead>\n",
       "  <tbody>\n",
       "    <tr>\n",
       "      <th>10504542</th>\n",
       "      <td>04/30/2016 12:00:00 AM</td>\n",
       "      <td>CRIMINAL DAMAGE</td>\n",
       "      <td>TO PROPERTY</td>\n",
       "      <td>APPLIANCE STORE</td>\n",
       "      <td>False</td>\n",
       "      <td>False</td>\n",
       "      <td>30.0</td>\n",
       "      <td>2016</td>\n",
       "      <td>0</td>\n",
       "    </tr>\n",
       "    <tr>\n",
       "      <th>10504573</th>\n",
       "      <td>04/30/2016 02:01:00 AM</td>\n",
       "      <td>CRIMINAL DAMAGE</td>\n",
       "      <td>CRIMINAL DEFACEMENT</td>\n",
       "      <td>RESIDENCE-GARAGE</td>\n",
       "      <td>True</td>\n",
       "      <td>False</td>\n",
       "      <td>22.0</td>\n",
       "      <td>2016</td>\n",
       "      <td>2</td>\n",
       "    </tr>\n",
       "    <tr>\n",
       "      <th>10469298</th>\n",
       "      <td>03/31/2016 09:30:00 AM</td>\n",
       "      <td>CRIMINAL DAMAGE</td>\n",
       "      <td>TO VEHICLE</td>\n",
       "      <td>PARKING LOT/GARAGE(NON.RESID.)</td>\n",
       "      <td>True</td>\n",
       "      <td>False</td>\n",
       "      <td>32.0</td>\n",
       "      <td>2016</td>\n",
       "      <td>9</td>\n",
       "    </tr>\n",
       "    <tr>\n",
       "      <th>10504589</th>\n",
       "      <td>04/30/2016 12:05:00 AM</td>\n",
       "      <td>CRIMINAL DAMAGE</td>\n",
       "      <td>TO PROPERTY</td>\n",
       "      <td>APARTMENT</td>\n",
       "      <td>False</td>\n",
       "      <td>False</td>\n",
       "      <td>24.0</td>\n",
       "      <td>2016</td>\n",
       "      <td>0</td>\n",
       "    </tr>\n",
       "    <tr>\n",
       "      <th>10504590</th>\n",
       "      <td>04/30/2016 12:12:00 AM</td>\n",
       "      <td>CRIMINAL DAMAGE</td>\n",
       "      <td>TO VEHICLE</td>\n",
       "      <td>STREET</td>\n",
       "      <td>False</td>\n",
       "      <td>False</td>\n",
       "      <td>22.0</td>\n",
       "      <td>2016</td>\n",
       "      <td>0</td>\n",
       "    </tr>\n",
       "  </tbody>\n",
       "</table>\n",
       "</div>"
      ],
      "text/plain": [
       "                            Date     Primary Type          Description  \\\n",
       "ID                                                                       \n",
       "10504542  04/30/2016 12:00:00 AM  CRIMINAL DAMAGE          TO PROPERTY   \n",
       "10504573  04/30/2016 02:01:00 AM  CRIMINAL DAMAGE  CRIMINAL DEFACEMENT   \n",
       "10469298  03/31/2016 09:30:00 AM  CRIMINAL DAMAGE           TO VEHICLE   \n",
       "10504589  04/30/2016 12:05:00 AM  CRIMINAL DAMAGE          TO PROPERTY   \n",
       "10504590  04/30/2016 12:12:00 AM  CRIMINAL DAMAGE           TO VEHICLE   \n",
       "\n",
       "                    Location Description  Arrest  Domestic  Ward  Year  Hour  \n",
       "ID                                                                            \n",
       "10504542                 APPLIANCE STORE   False     False  30.0  2016     0  \n",
       "10504573                RESIDENCE-GARAGE    True     False  22.0  2016     2  \n",
       "10469298  PARKING LOT/GARAGE(NON.RESID.)    True     False  32.0  2016     9  \n",
       "10504589                       APARTMENT   False     False  24.0  2016     0  \n",
       "10504590                          STREET   False     False  22.0  2016     0  "
      ]
     },
     "execution_count": 7,
     "metadata": {},
     "output_type": "execute_result"
    }
   ],
   "source": [
    "data = pd.DataFrame.from_csv(\"Modified_Crimes.csv\")\n",
    "train = data[data['Primary Type']==\"CRIMINAL DAMAGE\"]\n",
    "train.head()"
   ]
  },
  {
   "cell_type": "code",
   "execution_count": 8,
   "metadata": {
    "collapsed": true
   },
   "outputs": [],
   "source": [
    "train = train.rename(columns={\"Location Description\": \"LocationDescription\"})\n",
    "test = train[train['Year']==2017]\n",
    "train= train[train['Year'] < 2017]"
   ]
  },
  {
   "cell_type": "code",
   "execution_count": 9,
   "metadata": {
    "collapsed": true
   },
   "outputs": [],
   "source": [
    "dict_table = {}\n",
    "target = \"Arrest\"\n",
    "features = ['LocationDescription', 'Description', 'Domestic', 'Hour', 'Ward']\n",
    "# Use np.where(condition) to look for indice\n",
    "for col_n in features:\n",
    "    small_table = nb.CreateTable(col_n, train[col_n])\n",
    "    tr_arr = list(map(lambda x: nb.fillTable(x, train[col_n], train[target], True), train[col_n].unique()))\n",
    "    fa_arr = list(map(lambda x: nb.fillTable(x, train[col_n], train[target], False), train[col_n].unique()))\n",
    "    small_table=small_table._replace(true_p=tr_arr)\n",
    "    small_table=small_table._replace(false_p=fa_arr)\n",
    "    \n",
    "    dict_table[col_n] = small_table"
   ]
  },
  {
   "cell_type": "code",
   "execution_count": 10,
   "metadata": {},
   "outputs": [
    {
     "name": "stdout",
     "output_type": "stream",
     "text": [
      "Accuracy:  0.6999625187406296\n"
     ]
    },
    {
     "data": {
      "text/plain": [
       "array([[ 381,  247],\n",
       "       [2955, 7089]])"
      ]
     },
     "execution_count": 10,
     "metadata": {},
     "output_type": "execute_result"
    }
   ],
   "source": [
    "answer = list(map(lambda x: nb.CalculateNaiveBayes(dict_table, features, test.loc[x]), test.index))\n",
    "print(\"Accuracy: \",len(np.where(test['Arrest']==answer)[0])/len(test))\n",
    "confusion_matrix(test['Arrest'], answer,labels=[True, False])"
   ]
  },
  {
   "cell_type": "markdown",
   "metadata": {},
   "source": [
    "# NARCOTICS"
   ]
  },
  {
   "cell_type": "code",
   "execution_count": 11,
   "metadata": {},
   "outputs": [
    {
     "data": {
      "text/html": [
       "<div>\n",
       "<style>\n",
       "    .dataframe thead tr:only-child th {\n",
       "        text-align: right;\n",
       "    }\n",
       "\n",
       "    .dataframe thead th {\n",
       "        text-align: left;\n",
       "    }\n",
       "\n",
       "    .dataframe tbody tr th {\n",
       "        vertical-align: top;\n",
       "    }\n",
       "</style>\n",
       "<table border=\"1\" class=\"dataframe\">\n",
       "  <thead>\n",
       "    <tr style=\"text-align: right;\">\n",
       "      <th></th>\n",
       "      <th>Date</th>\n",
       "      <th>Primary Type</th>\n",
       "      <th>Description</th>\n",
       "      <th>Location Description</th>\n",
       "      <th>Arrest</th>\n",
       "      <th>Domestic</th>\n",
       "      <th>Ward</th>\n",
       "      <th>Year</th>\n",
       "      <th>Hour</th>\n",
       "    </tr>\n",
       "    <tr>\n",
       "      <th>ID</th>\n",
       "      <th></th>\n",
       "      <th></th>\n",
       "      <th></th>\n",
       "      <th></th>\n",
       "      <th></th>\n",
       "      <th></th>\n",
       "      <th></th>\n",
       "      <th></th>\n",
       "      <th></th>\n",
       "    </tr>\n",
       "  </thead>\n",
       "  <tbody>\n",
       "    <tr>\n",
       "      <th>10504512</th>\n",
       "      <td>04/30/2016 12:00:00 AM</td>\n",
       "      <td>NARCOTICS</td>\n",
       "      <td>POSS: CANNABIS 30GMS OR LESS</td>\n",
       "      <td>SIDEWALK</td>\n",
       "      <td>True</td>\n",
       "      <td>False</td>\n",
       "      <td>29.0</td>\n",
       "      <td>2016</td>\n",
       "      <td>0</td>\n",
       "    </tr>\n",
       "    <tr>\n",
       "      <th>10504545</th>\n",
       "      <td>04/30/2016 12:35:00 AM</td>\n",
       "      <td>NARCOTICS</td>\n",
       "      <td>POSSESSION OF DRUG EQUIPMENT</td>\n",
       "      <td>STREET</td>\n",
       "      <td>True</td>\n",
       "      <td>False</td>\n",
       "      <td>24.0</td>\n",
       "      <td>2016</td>\n",
       "      <td>0</td>\n",
       "    </tr>\n",
       "    <tr>\n",
       "      <th>10495687</th>\n",
       "      <td>04/22/2016 05:34:00 PM</td>\n",
       "      <td>NARCOTICS</td>\n",
       "      <td>ALTER/FORGE PRESCRIPTION</td>\n",
       "      <td>DRUG STORE</td>\n",
       "      <td>True</td>\n",
       "      <td>False</td>\n",
       "      <td>3.0</td>\n",
       "      <td>2016</td>\n",
       "      <td>17</td>\n",
       "    </tr>\n",
       "    <tr>\n",
       "      <th>10504584</th>\n",
       "      <td>04/30/2016 02:52:00 AM</td>\n",
       "      <td>NARCOTICS</td>\n",
       "      <td>POSS: COCAINE</td>\n",
       "      <td>STREET</td>\n",
       "      <td>True</td>\n",
       "      <td>False</td>\n",
       "      <td>30.0</td>\n",
       "      <td>2016</td>\n",
       "      <td>2</td>\n",
       "    </tr>\n",
       "    <tr>\n",
       "      <th>10504711</th>\n",
       "      <td>04/30/2016 08:15:00 AM</td>\n",
       "      <td>NARCOTICS</td>\n",
       "      <td>POSS: CANNABIS 30GMS OR LESS</td>\n",
       "      <td>VEHICLE NON-COMMERCIAL</td>\n",
       "      <td>True</td>\n",
       "      <td>False</td>\n",
       "      <td>35.0</td>\n",
       "      <td>2016</td>\n",
       "      <td>8</td>\n",
       "    </tr>\n",
       "  </tbody>\n",
       "</table>\n",
       "</div>"
      ],
      "text/plain": [
       "                            Date Primary Type                   Description  \\\n",
       "ID                                                                            \n",
       "10504512  04/30/2016 12:00:00 AM    NARCOTICS  POSS: CANNABIS 30GMS OR LESS   \n",
       "10504545  04/30/2016 12:35:00 AM    NARCOTICS  POSSESSION OF DRUG EQUIPMENT   \n",
       "10495687  04/22/2016 05:34:00 PM    NARCOTICS      ALTER/FORGE PRESCRIPTION   \n",
       "10504584  04/30/2016 02:52:00 AM    NARCOTICS                 POSS: COCAINE   \n",
       "10504711  04/30/2016 08:15:00 AM    NARCOTICS  POSS: CANNABIS 30GMS OR LESS   \n",
       "\n",
       "            Location Description  Arrest  Domestic  Ward  Year  Hour  \n",
       "ID                                                                    \n",
       "10504512                SIDEWALK    True     False  29.0  2016     0  \n",
       "10504545                  STREET    True     False  24.0  2016     0  \n",
       "10495687              DRUG STORE    True     False   3.0  2016    17  \n",
       "10504584                  STREET    True     False  30.0  2016     2  \n",
       "10504711  VEHICLE NON-COMMERCIAL    True     False  35.0  2016     8  "
      ]
     },
     "execution_count": 11,
     "metadata": {},
     "output_type": "execute_result"
    }
   ],
   "source": [
    "data = pd.DataFrame.from_csv(\"Modified_Crimes.csv\")\n",
    "train = data[data['Primary Type']==\"NARCOTICS\"]\n",
    "train.head()"
   ]
  },
  {
   "cell_type": "code",
   "execution_count": 12,
   "metadata": {
    "collapsed": true
   },
   "outputs": [],
   "source": [
    "train = train.rename(columns={\"Location Description\": \"LocationDescription\"})\n",
    "test = train[train['Year']==2017]\n",
    "train= train[train['Year'] < 2017]"
   ]
  },
  {
   "cell_type": "code",
   "execution_count": 13,
   "metadata": {
    "collapsed": true
   },
   "outputs": [],
   "source": [
    "dict_table = {}\n",
    "target = \"Arrest\"\n",
    "features = ['LocationDescription', 'Description', 'Domestic', 'Hour', 'Ward']\n",
    "# Use np.where(condition) to look for indice\n",
    "for col_n in features:\n",
    "    small_table = nb.CreateTable(col_n, train[col_n])\n",
    "    tr_arr = list(map(lambda x: nb.fillTable(x, train[col_n], train[target], True), train[col_n].unique()))\n",
    "    fa_arr = list(map(lambda x: nb.fillTable(x, train[col_n], train[target], False), train[col_n].unique()))\n",
    "    small_table=small_table._replace(true_p=tr_arr)\n",
    "    small_table=small_table._replace(false_p=fa_arr)\n",
    "    \n",
    "    dict_table[col_n] = small_table"
   ]
  },
  {
   "cell_type": "code",
   "execution_count": 14,
   "metadata": {},
   "outputs": [
    {
     "name": "stdout",
     "output_type": "stream",
     "text": [
      "Accuracy:  0.6902216427640157\n"
     ]
    },
    {
     "data": {
      "text/plain": [
       "array([[2647, 1186],\n",
       "       [   2,    0]])"
      ]
     },
     "execution_count": 14,
     "metadata": {},
     "output_type": "execute_result"
    }
   ],
   "source": [
    "answer = list(map(lambda x: nb.CalculateNaiveBayes(dict_table, features, test.loc[x]), test.index))\n",
    "print(\"Accuracy: \",len(np.where(test['Arrest']==answer)[0])/len(test))\n",
    "confusion_matrix(test['Arrest'], answer,labels=[True, False])"
   ]
  }
 ],
 "metadata": {
  "kernelspec": {
   "display_name": "Python 3",
   "language": "python",
   "name": "python3"
  },
  "language_info": {
   "codemirror_mode": {
    "name": "ipython",
    "version": 3
   },
   "file_extension": ".py",
   "mimetype": "text/x-python",
   "name": "python",
   "nbconvert_exporter": "python",
   "pygments_lexer": "ipython3",
   "version": "3.5.2"
  }
 },
 "nbformat": 4,
 "nbformat_minor": 2
}
